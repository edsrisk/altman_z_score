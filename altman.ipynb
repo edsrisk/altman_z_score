{
 "cells": [
  {
   "cell_type": "code",
   "execution_count": 1,
   "metadata": {},
   "outputs": [],
   "source": [
    "import plotly.graph_objects as go\n",
    "import requests, json\n",
    "import pandas as pd\n",
    "import os\n",
    "import pprint as pprint"
   ]
  },
  {
   "cell_type": "code",
   "execution_count": 2,
   "metadata": {},
   "outputs": [],
   "source": [
    "from dotenv import load_dotenv\n",
    "load_dotenv()\n",
    "fmp_api_key = os.getenv('fmp_api_key')"
   ]
  },
  {
   "cell_type": "code",
   "execution_count": 3,
   "metadata": {},
   "outputs": [
    {
     "name": "stdout",
     "output_type": "stream",
     "text": [
      "200\n"
     ]
    }
   ],
   "source": [
    "# Annaul Income Statement\n",
    "ticker = 'GE'\n",
    "annual_IS_url = f'https://financialmodelingprep.com/api/v3/income-statement/{ticker}?limit=120&apikey={fmp_api_key}'\n",
    "annual_IS = requests.get(annual_IS_url)\n",
    "annual_IS_request_head = requests.head(annual_IS_url)\n",
    "annual_IS_status_code = annual_IS_request_head.status_code\n",
    "annual_IS_response = json.loads(annual_IS.text)\n",
    "print(annual_IS_status_code)"
   ]
  },
  {
   "cell_type": "code",
   "execution_count": 4,
   "metadata": {},
   "outputs": [
    {
     "name": "stdout",
     "output_type": "stream",
     "text": [
      "ANNUAL Income Statement IS available\n",
      "Most Recent Annual Income Statement Date Is: 2019-12-31\n"
     ]
    }
   ],
   "source": [
    "if annual_IS_status_code == 200 and len(annual_IS_response) > 0:\n",
    "    print('ANNUAL Income Statement IS available')\n",
    "    print(f'Most Recent Annual Income Statement Date Is:' , annual_IS_response[0]['date'])\n",
    "else:\n",
    "    print('annual Income Statement is NOT available')"
   ]
  },
  {
   "cell_type": "code",
   "execution_count": 5,
   "metadata": {},
   "outputs": [
    {
     "name": "stdout",
     "output_type": "stream",
     "text": [
      "200\n"
     ]
    }
   ],
   "source": [
    "# Annaul Balance Sheet\n",
    "ticker = 'GE'\n",
    "annual_BS_url = f'https://financialmodelingprep.com/api/v3/balance-sheet-statement/{ticker}?limit=120&apikey={fmp_api_key}'\n",
    "annual_BS = requests.get(annual_BS_url)\n",
    "annual_BS_request_head = requests.head(annual_BS_url)\n",
    "annual_BS_status_code = annual_BS_request_head.status_code\n",
    "annual_BS_response = json.loads(annual_BS.text)\n",
    "print(annual_BS_status_code)"
   ]
  },
  {
   "cell_type": "code",
   "execution_count": 6,
   "metadata": {},
   "outputs": [
    {
     "name": "stdout",
     "output_type": "stream",
     "text": [
      "ANNUAL Balance Sheet IS available\n",
      "Most Recent Balance Sheet Date Is: 2019-12-31\n"
     ]
    }
   ],
   "source": [
    "if annual_BS_status_code == 200 and len(annual_BS_response) > 0:\n",
    "    print('ANNUAL Balance Sheet IS available')\n",
    "    print(f'Most Recent Balance Sheet Date Is:' , annual_BS_response[0]['date'])\n",
    "else:\n",
    "    print('annual Balance Sheet is NOT available')"
   ]
  },
  {
   "cell_type": "code",
   "execution_count": 7,
   "metadata": {},
   "outputs": [
    {
     "name": "stdout",
     "output_type": "stream",
     "text": [
      "Annual Income Statement Date: 2019-12-31\n",
      "Annual Balance Sheet Date: 2019-12-31\n",
      "Dates Match\n",
      "RUNNING ALTMAN Z-SCORE CALCULATOR\n"
     ]
    }
   ],
   "source": [
    "if annual_BS_response[0]['date'] == annual_IS_response[0]['date']:\n",
    "    print('Annual Income Statement Date:', annual_IS_response[0]['date'])\n",
    "    print('Annual Balance Sheet Date:', annual_BS_response[0]['date'])\n",
    "    print('Dates Match')\n",
    "    print('RUNNING ALTMAN Z-SCORE CALCULATOR')\n",
    "else:\n",
    "    print('CANNOT RUN Z-SCORE BECAUSE THE DATES ARE NOT IDENTIAL')"
   ]
  },
  {
   "cell_type": "code",
   "execution_count": 8,
   "metadata": {},
   "outputs": [
    {
     "name": "stdout",
     "output_type": "stream",
     "text": [
      "Annual Balance Sheet Data for GE for 2019-12-31\n",
      "-------------------------------------------------------------------------\n"
     ]
    },
    {
     "data": {
      "text/plain": [
       "{'date': '2019-12-31',\n",
       " 'symbol': 'GE',\n",
       " 'reportedCurrency': 'USD',\n",
       " 'fillingDate': '2020-02-24',\n",
       " 'acceptedDate': '2020-02-24 16:34:07',\n",
       " 'period': 'FY',\n",
       " 'cashAndCashEquivalents': 36394000000,\n",
       " 'shortTermInvestments': 48521000000,\n",
       " 'cashAndShortTermInvestments': 84915000000,\n",
       " 'netReceivables': 27047000000,\n",
       " 'inventory': 14104000000,\n",
       " 'otherCurrentAssets': 0.0,\n",
       " 'totalCurrentAssets': 139324000000,\n",
       " 'propertyPlantEquipmentNet': 46186000000,\n",
       " 'goodwill': 26734000000,\n",
       " 'intangibleAssets': 10652000000,\n",
       " 'goodwillAndIntangibleAssets': 37386000000,\n",
       " 'longTermInvestments': 0.0,\n",
       " 'taxAssets': 9889000000,\n",
       " 'otherNonCurrentAssets': 16461000000,\n",
       " 'totalNonCurrentAssets': 126723000000,\n",
       " 'otherAssets': 0.0,\n",
       " 'totalAssets': 266048000000,\n",
       " 'accountPayables': 15926000000,\n",
       " 'shortTermDebt': 48521000000,\n",
       " 'taxPayables': 0.0,\n",
       " 'deferredRevenue': 0.0,\n",
       " 'otherCurrentLiabilities': 17614000000,\n",
       " 'totalCurrentLiabilities': 76121000000,\n",
       " 'longTermDebt': 68811000000,\n",
       " 'deferredRevenueNonCurrent': 0.0,\n",
       " 'deferredTaxLiabilitiesNonCurrent': 0.0,\n",
       " 'otherNonCurrentLiabilities': 56406000000,\n",
       " 'totalNonCurrentLiabilities': 160066000000,\n",
       " 'otherLiabilities': 17614000000,\n",
       " 'totalLiabilities': 236187000000,\n",
       " 'commonStock': 702000000,\n",
       " 'retainedEarnings': 87732000000,\n",
       " 'accumulatedOtherComprehensiveIncomeLoss': -32140000000,\n",
       " 'othertotalStockholdersEquity': 0.0,\n",
       " 'totalStockholdersEquity': 28316000000,\n",
       " 'totalLiabilitiesAndStockholdersEquity': 236187000000,\n",
       " 'totalInvestments': 0.0,\n",
       " 'totalDebt': 94046000000,\n",
       " 'netDebt': 54490000000,\n",
       " 'link': 'https://www.sec.gov/Archives/edgar/data/40545/000004054520000009/0000040545-20-000009-index.htm',\n",
       " 'finalLink': 'https://www.sec.gov/Archives/edgar/data/40545/000004054520000009/ge10-k2019.htm'}"
      ]
     },
     "metadata": {},
     "output_type": "display_data"
    }
   ],
   "source": [
    "print('Annual Balance Sheet Data for', ticker, 'for', annual_BS_response[0]['date'] )\n",
    "print('-------------------------------------------------------------------------')\n",
    "display(annual_BS_response[0])"
   ]
  },
  {
   "cell_type": "code",
   "execution_count": 9,
   "metadata": {},
   "outputs": [
    {
     "name": "stdout",
     "output_type": "stream",
     "text": [
      "Annual Income Statement Data for GE for 2019-12-31\n",
      "-------------------------------------------------------------------------\n"
     ]
    },
    {
     "data": {
      "text/plain": [
       "{'date': '2019-12-31',\n",
       " 'symbol': 'GE',\n",
       " 'reportedCurrency': 'USD',\n",
       " 'fillingDate': '2020-02-24',\n",
       " 'acceptedDate': '2020-02-24 16:34:07',\n",
       " 'period': 'FY',\n",
       " 'revenue': 95215000000,\n",
       " 'costOfRevenue': 72560000000,\n",
       " 'grossProfit': 22655000000,\n",
       " 'grossProfitRatio': 0.23793519928582682,\n",
       " 'researchAndDevelopmentExpenses': 0.0,\n",
       " 'generalAndAdministrativeExpenses': 17243000000,\n",
       " 'sellingAndMarketingExpenses': 0.0,\n",
       " 'otherExpenses': -2509000000,\n",
       " 'operatingExpenses': 17243000000,\n",
       " 'costAndExpenses': 89803000000,\n",
       " 'interestExpense': 1695000000,\n",
       " 'depreciationAndAmortization': 0.0,\n",
       " 'ebitda': 9922000000,\n",
       " 'ebitdaratio': 0.10420627002047997,\n",
       " 'operatingIncome': 5412000000,\n",
       " 'operatingIncomeRatio': 0.01206742635089009,\n",
       " 'totalOtherIncomeExpensesNet': -3786000000,\n",
       " 'incomeBeforeTax': 1149000000,\n",
       " 'incomeBeforeTaxRatio': 0.01206742635089009,\n",
       " 'incomeTaxExpense': 726000000,\n",
       " 'netIncome': -4979000000,\n",
       " 'netIncomeRatio': -0.05229218085385706,\n",
       " 'eps': -0.62,\n",
       " 'epsdiluted': -0.62,\n",
       " 'weightedAverageShsOut': 8724000000,\n",
       " 'weightedAverageShsOutDil': 8724000000,\n",
       " 'link': 'https://www.sec.gov/Archives/edgar/data/40545/000004054520000009/0000040545-20-000009-index.htm',\n",
       " 'finalLink': 'https://www.sec.gov/Archives/edgar/data/40545/000004054520000009/ge10-k2019.htm'}"
      ]
     },
     "metadata": {},
     "output_type": "display_data"
    }
   ],
   "source": [
    "print('Annual Income Statement Data for', ticker, 'for', annual_IS_response[0]['date'] )\n",
    "print('-------------------------------------------------------------------------')\n",
    "display(annual_IS_response[0])"
   ]
  },
  {
   "cell_type": "code",
   "execution_count": 10,
   "metadata": {},
   "outputs": [
    {
     "name": "stdout",
     "output_type": "stream",
     "text": [
      "Current Assets: 139324000000\n",
      "Current Liabilities: 76121000000\n",
      "-----------------------------------\n",
      "Working Capital: 63203000000\n",
      "-----------------------------------\n",
      "Total Assets 266048000000\n",
      "-----------------------------------\n",
      "X1 =  0.23756239475583354\n",
      "===================================\n"
     ]
    }
   ],
   "source": [
    "# X1 Measures liquid assets in relation to the size of the company\n",
    "# X1 = (working capital) / (Total Assets)\n",
    "# Working Capital = (Current Assets - Current Liabilities)\n",
    "\n",
    "print('Current Assets:', annual_BS_response[0]['totalCurrentAssets'])\n",
    "print('Current Liabilities:', annual_BS_response[0]['totalCurrentLiabilities'])\n",
    "print('-----------------------------------')\n",
    "working_capital = annual_BS_response[0]['totalCurrentAssets'] - annual_BS_response[0]['totalCurrentLiabilities']\n",
    "print('Working Capital:', working_capital)\n",
    "print('-----------------------------------')\n",
    "print('Total Assets', annual_BS_response[0]['totalAssets'])\n",
    "X1 = working_capital / annual_BS_response[0]['totalAssets']\n",
    "print('-----------------------------------')\n",
    "print('X1 = ', X1)\n",
    "print('===================================')"
   ]
  },
  {
   "cell_type": "code",
   "execution_count": 11,
   "metadata": {},
   "outputs": [
    {
     "name": "stdout",
     "output_type": "stream",
     "text": [
      "Retained Earnings: 87732000000\n",
      "Total Assets: 266048000000\n",
      "-----------------------------------\n",
      "X2 =  0.32976004330045705\n",
      "===================================\n"
     ]
    }
   ],
   "source": [
    "# X2 Measures profitability that reflects the company's age and earning power\n",
    "# X2 = (Retained Earnings) / (Total Assets)\n",
    "\n",
    "print('Retained Earnings:', annual_BS_response[0]['retainedEarnings'])\n",
    "print('Total Assets:', annual_BS_response[0]['totalAssets'])\n",
    "print('-----------------------------------')\n",
    "X2 = annual_BS_response[0]['retainedEarnings'] / annual_BS_response[0]['totalAssets']\n",
    "print('X2 = ', X2)\n",
    "print('===================================')"
   ]
  },
  {
   "cell_type": "code",
   "execution_count": 12,
   "metadata": {},
   "outputs": [
    {
     "name": "stdout",
     "output_type": "stream",
     "text": [
      "Net Income: -4979000000\n",
      "Interest Expense: 1695000000\n",
      "Income Tax Expense: 726000000\n",
      "---------------------------------------------\n",
      "Earnings Before Interest Expense and Income Tax Expense -2558000000\n",
      "-----------------------------------\n",
      "Total Assets 266048000000\n",
      "-----------------------------------\n",
      "X3 = -0.009614806350733703\n"
     ]
    }
   ],
   "source": [
    "# X3 Measures operating efficiency apart from tax and leveraging factors. It recognizes operating earnings as being important to long-term viability\n",
    "# X3 = (EBIT) / (Total Assets)\n",
    "# EBIT = Earnings Before Interest and Taxes\n",
    "# EBIT = Net Income + Interest Expense + Tax Expense\n",
    "\n",
    "print('Net Income:', annual_IS_response[0]['netIncome'])\n",
    "print('Interest Expense:', annual_IS_response[0]['interestExpense'])\n",
    "print('Income Tax Expense:', annual_IS_response[0]['incomeTaxExpense'])\n",
    "ebit = annual_IS_response[0]['netIncome'] + annual_IS_response[0]['interestExpense'] + annual_IS_response[0]['incomeTaxExpense']\n",
    "print('---------------------------------------------')\n",
    "print('Earnings Before Interest Expense and Income Tax Expense', ebit)\n",
    "print('-----------------------------------')\n",
    "print('Total Assets', annual_BS_response[0]['totalAssets'])\n",
    "X3 = ebit / annual_BS_response[0]['totalAssets']\n",
    "print('-----------------------------------')\n",
    "print('X3 =', X3)"
   ]
  },
  {
   "cell_type": "code",
   "execution_count": 13,
   "metadata": {},
   "outputs": [
    {
     "name": "stdout",
     "output_type": "stream",
     "text": [
      "200\n"
     ]
    }
   ],
   "source": [
    "# X4 Adds market dimension that can show up security price fluctuation as a possible red flag\n",
    "# X4 = (Market Value of Equity) / (Book Value of Liabilities)\n",
    "\n",
    "ticker = 'GE'\n",
    "share_price_url = f'https://financialmodelingprep.com/api/v3/historical-price-full/{ticker}?from=2019-12-31&to=2019-12-31&apikey={fmp_api_key}'\n",
    "share_price = requests.get(share_price_url)\n",
    "share_price_request_head = requests.head(share_price_url)\n",
    "share_price_status_code = share_price_request_head.status_code\n",
    "share_price_response = json.loads(share_price.text)\n",
    "print(share_price_status_code)"
   ]
  },
  {
   "cell_type": "code",
   "execution_count": 14,
   "metadata": {},
   "outputs": [
    {
     "name": "stdout",
     "output_type": "stream",
     "text": [
      "Share Price for GE is 11.1322\n",
      "Date: 2019-12-31\n",
      "-------------------------------------\n",
      "Stock Historical Data\n",
      "-------------------------------------\n"
     ]
    },
    {
     "data": {
      "text/plain": [
       "{'symbol': 'GE',\n",
       " 'historical': [{'date': '2019-12-31',\n",
       "   'open': 10.9722,\n",
       "   'high': 11.1322,\n",
       "   'low': 10.9322,\n",
       "   'close': 11.1322,\n",
       "   'adjClose': 11.1322,\n",
       "   'volume': 56658000.0,\n",
       "   'unadjustedVolume': 56658000.0,\n",
       "   'change': 0.16,\n",
       "   'changePercent': 1.458,\n",
       "   'vwap': 11.06553,\n",
       "   'label': 'December 31, 19',\n",
       "   'changeOverTime': 0.01458}]}"
      ]
     },
     "metadata": {},
     "output_type": "display_data"
    }
   ],
   "source": [
    "if share_price_status_code == 200:\n",
    "    print('Share Price for' , ticker, 'is', share_price_response['historical'][0]['close'])\n",
    "    print('Date:', share_price_response['historical'][0]['date'])\n",
    "    print('-------------------------------------')\n",
    "    print('Stock Historical Data')\n",
    "    print('-------------------------------------')\n",
    "    display(share_price_response)\n",
    "else:\n",
    "    print('Stock Price is NOT available')"
   ]
  },
  {
   "cell_type": "code",
   "execution_count": 15,
   "metadata": {},
   "outputs": [
    {
     "name": "stdout",
     "output_type": "stream",
     "text": [
      "Total Number of Shares Outstanding: 8724000000\n",
      "Share Price for GE is 11.1322\n",
      "-----------------------------------------------\n",
      "Market Capitalization or Market Value of Equity:  97117312800.0\n",
      "Book Value of Liabilities 236187000000\n",
      "--------------------------------------------------\n",
      "X4 = 0.4111882228911837\n"
     ]
    }
   ],
   "source": [
    "# X4 Continued\n",
    "# Market value of equity is the total dollar value of a company's equity and is also known as market capitalization. This measure of a company's value is calculated by multiplying \n",
    "# the current stock price by the total number of outstanding shares\n",
    "# MV of Equity = Stock Price * Total Number of Shares Outstanding\n",
    "\n",
    "print('Total Number of Shares Outstanding:', annual_IS_response[0]['weightedAverageShsOut'])\n",
    "print('Share Price for' , ticker, 'is', share_price_response['historical'][0]['close'])\n",
    "mkt_cap = annual_IS_response[0]['weightedAverageShsOut'] * share_price_response['historical'][0]['close']\n",
    "book_value_liabilities = annual_BS_response[0]['totalLiabilities']\n",
    "print('-----------------------------------------------')\n",
    "print('Market Capitalization or Market Value of Equity: ', mkt_cap)\n",
    "print('Book Value of Liabilities', book_value_liabilities)\n",
    "X4 = mkt_cap / book_value_liabilities\n",
    "print('--------------------------------------------------')\n",
    "print('X4 =', X4)"
   ]
  },
  {
   "cell_type": "code",
   "execution_count": 16,
   "metadata": {},
   "outputs": [
    {
     "name": "stdout",
     "output_type": "stream",
     "text": [
      "Sales or Revenue: 95215000000\n",
      "Total Assets 266048000000\n",
      "---------------------------------------------------\n",
      "X5 =  0.3578865467885494\n",
      "===================================================\n"
     ]
    }
   ],
   "source": [
    "# X5 is the standard measure for total assets turnover (varies greatly from industry to industry)\n",
    "# X5 = sales / (total assets)\n",
    "\n",
    "print('Sales or Revenue:', annual_IS_response[0]['revenue'])\n",
    "print('Total Assets', annual_BS_response[0]['totalAssets'])\n",
    "print('---------------------------------------------------')\n",
    "X5 = annual_IS_response[0]['revenue'] / annual_BS_response[0]['totalAssets']\n",
    "print('X5 = ', X5)\n",
    "print('===================================================')"
   ]
  },
  {
   "cell_type": "code",
   "execution_count": 18,
   "metadata": {},
   "outputs": [
    {
     "name": "stdout",
     "output_type": "stream",
     "text": [
      "Altman Z Score Report for GE : Input Variables\n",
      "------------------------------------------------------\n",
      "Balance Sheet Date:  2019-12-31\n",
      "Income Statement Date:  2019-12-31\n",
      "Current Assets: 139324000000\n",
      "Current Liabilities: 76121000000\n",
      "Working Capital: 63203000000\n",
      "Retained Earnings: 87732000000\n",
      "Net Income: -4979000000\n",
      "Interest Expense: 1695000000\n",
      "Income Tax Expense: 726000000\n",
      "Earnings Before Interest Expense and Income Tax Expense: -2558000000\n",
      "Total Number of Shares Outstanding: 8724000000\n",
      "Share Price for GE is 11.1322\n",
      "Market Capitalization or Market Value of Equity:  97117312800.0\n",
      "Book Value of Liabilities 236187000000\n",
      "Sales or Revenue: 95215000000\n",
      "-------------------------------------------------------------------------------\n",
      "\n",
      "Z-Score Summary\n",
      "-------------------------------------------------------------------------------\n",
      "X1 =  0.23756239475583354\n",
      "X2 =  0.32976004330045705\n",
      "X3 =  -0.009614806350733703\n",
      "X4 =  0.4111882228911837\n",
      "X5 =  0.3578865467885494\n",
      "-------------------------------------\n",
      "Altman Z-Score for GE is 1.32678240138529\n",
      "Weak Financials: High Risk\n",
      "-------End of Analysis------------\n"
     ]
    }
   ],
   "source": [
    "print('Altman Z Score Report for', ticker, ': Input Variables')\n",
    "print('------------------------------------------------------')\n",
    "print('Balance Sheet Date: ', annual_BS_response[0]['date'])\n",
    "print('Income Statement Date: ', annual_IS_response[0]['date'])\n",
    "print('Current Assets:', annual_BS_response[0]['totalCurrentAssets'])\n",
    "print('Current Liabilities:', annual_BS_response[0]['totalCurrentLiabilities'])\n",
    "print('Working Capital:', working_capital)\n",
    "print('Retained Earnings:', annual_BS_response[0]['retainedEarnings'])\n",
    "print('Net Income:', annual_IS_response[0]['netIncome'])\n",
    "print('Interest Expense:', annual_IS_response[0]['interestExpense'])\n",
    "print('Income Tax Expense:', annual_IS_response[0]['incomeTaxExpense'])\n",
    "print('Earnings Before Interest Expense and Income Tax Expense:', ebit)\n",
    "print('Total Number of Shares Outstanding:', annual_IS_response[0]['weightedAverageShsOut'])\n",
    "print('Share Price for' , ticker, 'is', share_price_response['historical'][0]['close'])\n",
    "print('Market Capitalization or Market Value of Equity: ', mkt_cap)\n",
    "print('Book Value of Liabilities', book_value_liabilities)\n",
    "print('Sales or Revenue:', annual_IS_response[0]['revenue'])\n",
    "print('-------------------------------------------------------------------------------')\n",
    "print(\"\")\n",
    "print('Z-Score Summary')\n",
    "print('-------------------------------------------------------------------------------')\n",
    "\n",
    "altman_z_score = X1 + X2 + X3 + X4 + X5\n",
    "print('X1 = ', X1)\n",
    "print('X2 = ', X2)\n",
    "print('X3 = ', X3)\n",
    "print('X4 = ', X4)\n",
    "print('X5 = ', X5)\n",
    "print('-------------------------------------')\n",
    "\n",
    "print('Altman Z-Score for', ticker, 'is', altman_z_score)\n",
    "\n",
    "if altman_z_score < 1.8:\n",
    "    print('Weak Financials: High Risk')\n",
    "elif altman_z_score > 3:\n",
    "    print('Strong Financials: Low Risk')\n",
    "else:\n",
    "    print('Unknown, Consider Other Financial and/or Non Financial Variables')\n",
    "print('-------End of Analysis------------')"
   ]
  },
  {
   "cell_type": "raw",
   "metadata": {},
   "source": []
  },
  {
   "cell_type": "code",
   "execution_count": null,
   "metadata": {},
   "outputs": [],
   "source": []
  }
 ],
 "metadata": {
  "kernelspec": {
   "display_name": "Python 3",
   "language": "python",
   "name": "python3"
  },
  "language_info": {
   "codemirror_mode": {
    "name": "ipython",
    "version": 3
   },
   "file_extension": ".py",
   "mimetype": "text/x-python",
   "name": "python",
   "nbconvert_exporter": "python",
   "pygments_lexer": "ipython3",
   "version": "3.7.7"
  }
 },
 "nbformat": 4,
 "nbformat_minor": 4
}
